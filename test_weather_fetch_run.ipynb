{
 "cells": [
  {
   "cell_type": "code",
   "execution_count": null,
   "id": "92319be2-9699-43e5-88b3-3afbabfaa890",
   "metadata": {},
   "outputs": [],
   "source": [
    "# ✅ Cell 1 – Setup imports and patch for weather fetch testing\n",
    "\n",
    "import sys\n",
    "import os\n",
    "import types\n",
    "import logging\n",
    "\n",
    "# 🔧 Step 1: Add key project paths\n",
    "project_root = os.path.abspath(\"..\")\n",
    "sys.path.append(project_root)\n",
    "sys.path.append(os.path.join(project_root, \"flask_app\"))\n",
    "sys.path.append(os.path.join(project_root, \"flask_app\", \"app\"))\n",
    "\n",
    "# 🧠 Sanity check\n",
    "print(f\"📁 Patched paths:\\n - {sys.path[-3]}\\n - {sys.path[-2]}\\n - {sys.path[-1]}\")\n",
    "\n",
    "# 🔧 Step 2: Patch modules required by noaa_weather_fetch.py\n",
    "import flask_app.app as app\n",
    "import flask_app.app.utils as utils\n",
    "import flask_app.app.noaa_weather_alerts_fetch as noaa_weather_alerts_fetch\n",
    "import test_fetch_offshore_buoys  # ✅ patched local fetcher logic\n",
    "\n",
    "# Inject module patches\n",
    "sys.modules['app'] = app\n",
    "sys.modules['app.utils'] = utils\n",
    "sys.modules['app.noaa_weather_alerts_fetch'] = noaa_weather_alerts_fetch\n",
    "sys.modules['app.fetch_NOAA_offshore_buoys'] = test_fetch_offshore_buoys\n",
    "\n",
    "# ✅ Step 3: Import only what’s actually defined in your fetch script\n",
    "from flask_app.setup_imports import *\n",
    "from flask_app.app.noaa_weather_fetch import fetch_nearest_weather_stations\n"
   ]
  },
  {
   "cell_type": "code",
   "execution_count": null,
   "id": "6be09415-4b1e-48f6-80c5-e4d79d2f11fa",
   "metadata": {},
   "outputs": [],
   "source": [
    "!python generate_ndbc_station_metadata.py\n",
    "\n"
   ]
  },
  {
   "cell_type": "code",
   "execution_count": null,
   "id": "dc9b93a5-fe52-4aca-b35f-9b660ea63ce9",
   "metadata": {},
   "outputs": [],
   "source": [
    "import os\n",
    "print(\"📁 Current working directory:\", os.getcwd())\n"
   ]
  },
  {
   "cell_type": "code",
   "execution_count": null,
   "id": "08a6b770-9e42-485c-8967-d7b8e4f6778f",
   "metadata": {},
   "outputs": [],
   "source": [
    "# Test Position A (near Chesapeake Bay)\n",
    "test_latitude = 37.76\n",
    "test_longitude = -75.503333\n",
    "\n",
    "print(f\"✅ Fetching nearest NOAA weather stations for ({test_latitude}, {test_longitude})...\")\n",
    "\n",
    "nearest_stations = fetch_nearest_weather_stations(test_latitude, test_longitude)\n"
   ]
  },
  {
   "cell_type": "code",
   "execution_count": null,
   "id": "543a04e6-3aec-447e-b638-1dff63d0cb22",
   "metadata": {},
   "outputs": [],
   "source": [
    "import os\n",
    "print(os.path.exists(\"fetch_NOAA_offshore_buoys.py\"))\n"
   ]
  },
  {
   "cell_type": "code",
   "execution_count": null,
   "id": "2a0db056-5f29-471a-9d40-f050e2d7d0a5",
   "metadata": {},
   "outputs": [],
   "source": [
    "import os\n",
    "\n",
    "def search_function_definition(base_path, function_name=\"fetch_offshore_buoys\"):\n",
    "    hits = []\n",
    "\n",
    "    for root, _, files in os.walk(base_path):\n",
    "        for file in files:\n",
    "            if file.endswith(\".py\"):\n",
    "                file_path = os.path.join(root, file)\n",
    "                try:\n",
    "                    with open(file_path, \"r\", encoding=\"utf-8\") as f:\n",
    "                        lines = f.readlines()\n",
    "                        for idx, line in enumerate(lines):\n",
    "                            if line.strip().startswith(f\"def {function_name}(\"):\n",
    "                                print(f\"✅ Found in: {file_path} (line {idx+1})\")\n",
    "                                hits.append(file_path)\n",
    "                                break\n",
    "                except Exception as e:\n",
    "                    print(f\"⚠️ Could not read {file_path}: {e}\")\n",
    "    if not hits:\n",
    "        print(\"❌ No matching function found.\")\n",
    "    return hits\n",
    "\n",
    "# 🔧 Set your local project directory here\n",
    "project_dir = r\"C:\\Users\\gehig\\Projects\\RescueDecisionSystems\"\n",
    "search_function_definition(project_dir)\n"
   ]
  },
  {
   "cell_type": "code",
   "execution_count": null,
   "id": "614aa213-f14e-4b0c-9061-ab4a46eb7504",
   "metadata": {},
   "outputs": [],
   "source": []
  }
 ],
 "metadata": {
  "kernelspec": {
   "display_name": "Python 3 (ipykernel)",
   "language": "python",
   "name": "python3"
  },
  "language_info": {
   "codemirror_mode": {
    "name": "ipython",
    "version": 3
   },
   "file_extension": ".py",
   "mimetype": "text/x-python",
   "name": "python",
   "nbconvert_exporter": "python",
   "pygments_lexer": "ipython3",
   "version": "3.9.21"
  }
 },
 "nbformat": 4,
 "nbformat_minor": 5
}
