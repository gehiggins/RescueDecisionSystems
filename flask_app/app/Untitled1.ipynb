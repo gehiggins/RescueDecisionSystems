{
 "cells": [
  {
   "cell_type": "code",
   "execution_count": 1,
   "id": "db0dac72-978a-43f6-93fa-349d2f019ed8",
   "metadata": {},
   "outputs": [
    {
     "ename": "ModuleNotFoundError",
     "evalue": "No module named 'flask_app'",
     "output_type": "error",
     "traceback": [
      "\u001b[1;31m---------------------------------------------------------------------------\u001b[0m",
      "\u001b[1;31mModuleNotFoundError\u001b[0m                       Traceback (most recent call last)",
      "Cell \u001b[1;32mIn[1], line 1\u001b[0m\n\u001b[1;32m----> 1\u001b[0m \u001b[38;5;28;01mfrom\u001b[39;00m \u001b[38;5;21;01mflask_app\u001b[39;00m\u001b[38;5;21;01m.\u001b[39;00m\u001b[38;5;21;01msetup_imports\u001b[39;00m \u001b[38;5;28;01mimport\u001b[39;00m \u001b[38;5;241m*\u001b[39m\n\u001b[0;32m      2\u001b[0m \u001b[38;5;28;01mfrom\u001b[39;00m \u001b[38;5;21;01mapp\u001b[39;00m\u001b[38;5;21;01m.\u001b[39;00m\u001b[38;5;21;01mfetcher_noaa_shore\u001b[39;00m \u001b[38;5;28;01mimport\u001b[39;00m fetch_noaa_shore_stations\n\u001b[0;32m      3\u001b[0m \u001b[38;5;28;01mfrom\u001b[39;00m \u001b[38;5;21;01mapp\u001b[39;00m\u001b[38;5;21;01m.\u001b[39;00m\u001b[38;5;21;01mfetcher_ndbc_buoy\u001b[39;00m \u001b[38;5;28;01mimport\u001b[39;00m fetch_ndbc_buoy_stations\n",
      "\u001b[1;31mModuleNotFoundError\u001b[0m: No module named 'flask_app'"
     ]
    }
   ],
   "source": [
    "from flask_app.setup_imports import *\n",
    "from app.fetcher_noaa_shore import fetch_noaa_shore_stations\n",
    "from app.fetcher_ndbc_buoy import fetch_ndbc_buoy_stations\n",
    "from app.weather_data_selection import select_best_weather_station\n"
   ]
  }
 ],
 "metadata": {
  "kernelspec": {
   "display_name": "Python 3 (ipykernel)",
   "language": "python",
   "name": "python3"
  },
  "language_info": {
   "codemirror_mode": {
    "name": "ipython",
    "version": 3
   },
   "file_extension": ".py",
   "mimetype": "text/x-python",
   "name": "python",
   "nbconvert_exporter": "python",
   "pygments_lexer": "ipython3",
   "version": "3.9.21"
  }
 },
 "nbformat": 4,
 "nbformat_minor": 5
}
